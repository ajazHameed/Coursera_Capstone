{
 "cells": [
  {
   "cell_type": "markdown",
   "metadata": {},
   "source": [
    "# Coursera Applied Data Science Capstone Project\n",
    "### This repository is created as part of my Coursera capstone project"
   ]
  },
  {
   "source": [
    "# Comparison of Food Choices of Cochin and Calicut cities"
   ],
   "cell_type": "markdown",
   "metadata": {}
  },
  {
   "source": [
    "## Introduction\n",
    "### Cochin and Calicut are two of the main cities in the Inidan State of Kerala. Geographically these places are located within a distance of 200Km but we can see a big difference in culture, cuisine, language etc between the people of these cities. These cities are also two of the biggest economic hubs of the state. In Calicut, service sector dominates the economy followed by industries. The city also has a strong mercantile aspect. Investments in IT is still in the beginning stage. \n",
    "\n",
    "### Kochi is often referred as the commercial and financial capital of Kerala. Availability of electricity, fresh water, long coastline, backwaters, good banking facilities, presence of a major port, container trans-shipment terminal, harbour terminal and an international air terminal are some of the factors which accelerated the industrial growth in the city and its adjoining district. In recent years the city has witnessed heavy investment, thus making it one of the fastest-growing second-tier metro cities in India. The district contributes 15.1% of the state GDP. Construction and manufacturing industries combined contributes 37% of the district's total GDP, and trade, tourism and hospitality industries together provides another 20%. Major business sectors include construction, manufacturing, shipbuilding, transportation/shipping, seafood and spices exports, chemical industries, information technology (IT), tourism, health services, and banking.\n",
    "\n",
    "### This project is a comparitive study of food choices of Kochi and Calicut to understand how much the econmical and cultural differences can affect the food preferences of people. This project is useful for restaurant chains who want to start their outlets in diffrent locations to customize their offerings based on the intereset of people of the respective locations.\n"
   ],
   "cell_type": "markdown",
   "metadata": {}
  },
  {
   "source": [
    "## Data to be used\n",
    "### The analysis will be based on the location data obtained from FourSquare. First we need to understand the type of restaurants which are mostly present in these two cities.From that information, we can extract the preferred cuisines in each cities. We will also get insight into combination of cuisine and premium/cheap dining. \n",
    "\n",
    "### Eg. We can get the ratio of Non-veg and veg restaurants in both cities. From which we can understand whether Non-veg is preferred over veg or vice versa. From the total number of cuisines available we can see how broad is the food choices of each city. "
   ],
   "cell_type": "markdown",
   "metadata": {}
  },
  {
   "cell_type": "code",
   "execution_count": null,
   "metadata": {},
   "outputs": [],
   "source": []
  }
 ],
 "metadata": {
  "kernelspec": {
   "display_name": "Python 3",
   "language": "python",
   "name": "python3"
  },
  "language_info": {
   "codemirror_mode": {
    "name": "ipython",
    "version": 3
   },
   "file_extension": ".py",
   "mimetype": "text/x-python",
   "name": "python",
   "nbconvert_exporter": "python",
   "pygments_lexer": "ipython3",
   "version": "3.9.2"
  }
 },
 "nbformat": 4,
 "nbformat_minor": 4
}